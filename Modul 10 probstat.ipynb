{
 "cells": [
  {
   "cell_type": "code",
   "execution_count": 2,
   "id": "0c16cf46",
   "metadata": {},
   "outputs": [
    {
     "name": "stdout",
     "output_type": "stream",
     "text": [
      "Nilai F: 3.347702318015454\n",
      "Nilai p: 0.06993237223084404\n"
     ]
    }
   ],
   "source": [
    "import numpy as np\n",
    "import scipy.stats as stats\n",
    "\n",
    "\n",
    "# Data waktu produksi dari ketiga mesin\n",
    "metode_A = np.array([77, 54, 67, 74, 71])\n",
    "metode_B = np.array([60, 41, 59, 65, 62])\n",
    "metode_C = np.array([49, 52, 69, 47, 56])\n",
    "\n",
    "\n",
    "# Gabungkan data ke dalam satu array\n",
    "data_felix = [metode_A, metode_B, metode_C]\n",
    "\n",
    "\n",
    "# Hitung ANOVA menggunakan scipy.stats\n",
    "f_statistic, p_value = stats.f_oneway(metode_A, metode_B, metode_C)\n",
    "\n",
    "\n",
    "# Tampilkan hasil\n",
    "print(f\"Nilai F: {f_statistic}\")\n",
    "print(f\"Nilai p: {p_value}\")\n"
   ]
  },
  {
   "cell_type": "code",
   "execution_count": 1,
   "id": "5c8eb9f9",
   "metadata": {},
   "outputs": [
    {
     "name": "stdout",
     "output_type": "stream",
     "text": [
      "Nilai F: 4.846087862380136\n",
      "Nilai p: 0.0159099583256229\n"
     ]
    }
   ],
   "source": [
    "import numpy as np\n",
    "import scipy.stats as stats\n",
    "\n",
    "plant_a = np.array ([4.17, 5.58, 5.18, 6.11, 4.50, 4.61, 5.17, 4.53, 5.33, 5.14])\n",
    "plant_b = np.array ([4.81, 4.17, 4.41, 3.59, 5.87, 3.83, 6.03, 4.89, 4.32, 4.69])\n",
    "plant_c = np.array ([6.31, 5.12, 5.54, 5.50, 5.37, 5.29, 4.92, 6.15, 5.80, 5.26])\n",
    "\n",
    "data_felix = [plant_a, plant_b, plant_c]\n",
    "\n",
    "f_statistic, p_value = stats.f_oneway(plant_a, plant_b, plant_c)\n",
    "\n",
    "print(f\"Nilai F: {f_statistic}\")\n",
    "print(f\"Nilai p: {p_value}\")"
   ]
  },
  {
   "cell_type": "code",
   "execution_count": null,
   "id": "5e227e5c",
   "metadata": {},
   "outputs": [],
   "source": []
  }
 ],
 "metadata": {
  "kernelspec": {
   "display_name": "Python 3 (ipykernel)",
   "language": "python",
   "name": "python3"
  },
  "language_info": {
   "codemirror_mode": {
    "name": "ipython",
    "version": 3
   },
   "file_extension": ".py",
   "mimetype": "text/x-python",
   "name": "python",
   "nbconvert_exporter": "python",
   "pygments_lexer": "ipython3",
   "version": "3.11.4"
  }
 },
 "nbformat": 4,
 "nbformat_minor": 5
}
